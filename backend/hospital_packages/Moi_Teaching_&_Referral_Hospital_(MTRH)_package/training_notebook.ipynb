{
 "cells": [
  {
   "cell_type": "code",
   "execution_count": null,
   "id": "d47a832e",
   "metadata": {
    "vscode": {
     "languageId": "plaintext"
    }
   },
   "outputs": [],
   "source": [
    "# Moi Teaching & Referral Hospital (MTRH) Federated Learning Notebook\n",
    "\n",
    "This notebook runs a gender prediction experiment using the MIMIC-IV Clinical Database Demo. It will:\n",
    "\n",
    "1. Load diagnosis data from S3.\n",
    "2. Preprocess it.\n",
    "3. Train a model to predict patient gender based on diagnosis count.\n",
    "4. Upload the trained model and training log back to the director.\n"
   ]
  },
  {
   "cell_type": "code",
   "execution_count": null,
   "id": "cfa85b0c",
   "metadata": {},
   "outputs": [],
   "source": [
    "!pip install pandas torch scikit-learn boto3\n",
    "\n",
    "import pandas as pd\n",
    "import numpy as np\n",
    "import torch\n",
    "from torch import nn\n",
    "from torch.utils.data import DataLoader, Dataset\n",
    "from sklearn.model_selection import train_test_split\n",
    "from sklearn.preprocessing import LabelEncoder\n",
    "import os\n",
    "import requests\n"
   ]
  },
  {
   "cell_type": "code",
   "execution_count": null,
   "id": "b88fc977",
   "metadata": {},
   "outputs": [],
   "source": [
    "!aws s3 cp --no-sign-request s3://physionet-open/mimic-iv-demo/hosp/diagnoses_icd.csv ./diagnoses_icd.csv\n",
    "!aws s3 cp --no-sign-request s3://physionet-open/mimic-iv-demo/core/patients.csv ./patients.csv"
   ]
  },
  {
   "cell_type": "code",
   "execution_count": null,
   "id": "d87ee5e9",
   "metadata": {},
   "outputs": [],
   "source": [
    "# Load data\n",
    "diag = pd.read_csv(\"diagnoses_icd.csv\")\n",
    "patients = pd.read_csv(\"patients.csv\")\n",
    "\n",
    "# Join on subject_id\n",
    "data = diag.groupby(\"subject_id\").size().reset_index(name=\"diagnosis_count\")\n",
    "data = data.merge(patients[[\"subject_id\", \"gender\"]], on=\"subject_id\")\n",
    "\n",
    "# Encode gender\n",
    "label_encoder = LabelEncoder()\n",
    "data[\"gender\"] = label_encoder.fit_transform(data[\"gender\"])  # 0=F, 1=M\n",
    "\n",
    "# Split\n",
    "X_train, X_test, y_train, y_test = train_test_split(\n",
    "    data[[\"diagnosis_count\"]], data[\"gender\"], test_size=0.2, random_state=42\n",
    ")\n",
    "\n",
    "class GenderDataset(Dataset):\n",
    "    def __init__(self, X, y):\n",
    "        self.X = torch.tensor(X.values, dtype=torch.float32)\n",
    "        self.y = torch.tensor(y.values, dtype=torch.long)\n",
    "\n",
    "    def __len__(self):\n",
    "        return len(self.X)\n",
    "\n",
    "    def __getitem__(self, idx):\n",
    "        return self.X[idx], self.y[idx]\n",
    "\n",
    "train_loader = DataLoader(GenderDataset(X_train, y_train), batch_size=32, shuffle=True)\n",
    "test_loader = DataLoader(GenderDataset(X_test, y_test), batch_size=32)\n"
   ]
  },
  {
   "cell_type": "code",
   "execution_count": null,
   "id": "a7220248",
   "metadata": {},
   "outputs": [],
   "source": [
    "class GenderNet(nn.Module):\n",
    "    def __init__(self):\n",
    "        super().__init__()\n",
    "        self.net = nn.Sequential(\n",
    "            nn.Linear(1, 16),\n",
    "            nn.ReLU(),\n",
    "            nn.Linear(16, 2)\n",
    "        )\n",
    "\n",
    "    def forward(self, x):\n",
    "        return self.net(x)\n",
    "\n",
    "model = GenderNet()\n",
    "loss_fn = nn.CrossEntropyLoss()\n",
    "optimizer = torch.optim.Adam(model.parameters(), lr=0.001)\n"
   ]
  },
  {
   "cell_type": "code",
   "execution_count": null,
   "id": "5bddca5b",
   "metadata": {},
   "outputs": [],
   "source": [
    "log = []\n",
    "for epoch in range(5):\n",
    "    model.train()\n",
    "    total_loss = 0\n",
    "    for X_batch, y_batch in train_loader:\n",
    "        optimizer.zero_grad()\n",
    "        pred = model(X_batch)\n",
    "        loss = loss_fn(pred, y_batch)\n",
    "        loss.backward()\n",
    "        optimizer.step()\n",
    "        total_loss += loss.item()\n",
    "    avg_loss = total_loss / len(train_loader)\n",
    "    log.append(f\"Epoch {epoch+1}, Loss: {avg_loss:.4f}\")\n",
    "    print(log[-1])\n"
   ]
  },
  {
   "cell_type": "code",
   "execution_count": null,
   "id": "bea433ab",
   "metadata": {},
   "outputs": [],
   "source": [
    "model.eval()\n",
    "correct = 0\n",
    "total = 0\n",
    "with torch.no_grad():\n",
    "    for X_batch, y_batch in test_loader:\n",
    "        outputs = model(X_batch)\n",
    "        _, predicted = torch.max(outputs.data, 1)\n",
    "        total += y_batch.size(0)\n",
    "        correct += (predicted == y_batch).sum().item()\n",
    "\n",
    "accuracy = correct / total\n",
    "print(f\"Test Accuracy: {accuracy:.2%}\")\n",
    "log.append(f\"Test Accuracy: {accuracy:.2%}\")\n"
   ]
  },
  {
   "cell_type": "code",
   "execution_count": null,
   "id": "c278beeb",
   "metadata": {},
   "outputs": [],
   "source": [
    "# Save model and logs\n",
    "os.makedirs(\"outputs\", exist_ok=True)\n",
    "torch.save(model.state_dict(), \"outputs/model.pt\")\n",
    "with open(\"outputs/log.txt\", \"w\") as f:\n",
    "    f.write(\"\\n\".join(log))\n",
    "\n",
    "# Upload to director\n",
    "with open(\"outputs/model.pt\", \"rb\") as model_file, open(\"outputs/log.txt\", \"rb\") as log_file:\n",
    "    response = requests.post(\n",
    "        \"http://localhost:8000/upload_results\",  # Replace with actual URL\n",
    "        files={\"model\": model_file, \"log\": log_file},\n",
    "        data={\"envoy_name\": \"Moi Teaching & Referral Hospital (MTRH)\"}\n",
    "    )\n",
    "\n",
    "print(\"Upload status:\", response.status_code)\n"
   ]
  }
 ],
 "metadata": {
  "language_info": {
   "name": "python"
  }
 },
 "nbformat": 4,
 "nbformat_minor": 5
}
